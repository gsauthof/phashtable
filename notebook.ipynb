{
 "cells": [
  {
   "cell_type": "code",
   "execution_count": null,
   "metadata": {},
   "outputs": [],
   "source": [
    "import numpy as np\n",
    "import pandas as pd\n",
    "\n",
    "import sys\n",
    "\n",
    "import glob\n",
    "import seaborn as sns\n",
    "\n",
    "import matplotlib.pyplot as plt"
   ]
  },
  {
   "cell_type": "code",
   "execution_count": null,
   "metadata": {},
   "outputs": [],
   "source": [
    "def forward_csv(f, prefix):\n",
    "    pos = 0\n",
    "    while True:\n",
    "        line = f.readline()\n",
    "        if not line or line.startswith(prefix):\n",
    "            f.seek(pos)\n",
    "            return f\n",
    "        pos += len(line.encode('utf-8'))"
   ]
  },
  {
   "cell_type": "code",
   "execution_count": null,
   "metadata": {},
   "outputs": [],
   "source": [
    "def read_frame(filenames):\n",
    "    dfs = [ pd.read_csv(forward_csv(open(fn), 'name,iter')) for fn in filenames ]\n",
    "    df = pd.merge(pd.merge(dfs[0], dfs[1], on='name'), dfs[2], on='name')\n",
    "    \n",
    "    # cancel out outliers due to OS jitter such as timers, kernel threads, etc.\n",
    "    df['cpu_time_min'] = df[['cpu_time_x', 'cpu_time_y', 'cpu_time']].min(axis=1)\n",
    "\n",
    "    df['ns'] = np.floor(df['cpu_time_min'])\n",
    "\n",
    "    df['name'] = df['name'].map(lambda x : x[0:x.index('/')])\n",
    "    df['table'] = df['name'].map(lambda x : x[0:x.index('_')])\n",
    "    df['hash_fn'] = df['name'].map(lambda x : x[x.index('_')+1:])\n",
    "\n",
    "    df = df[['name', 'ns', 'table', 'hash_fn']].copy()\n",
    "    \n",
    "    return df"
   ]
  },
  {
   "cell_type": "code",
   "execution_count": null,
   "metadata": {},
   "outputs": [],
   "source": [
    "df1 = read_frame(glob.glob('out/xeon-gold-6246/*.csv'))\n",
    "df1['tag'] = 'xeon-gold-6246'\n",
    "df2 = read_frame(glob.glob('out/atom-C3758/*.csv'))\n",
    "df2['tag'] = 'atom-C3758'"
   ]
  },
  {
   "cell_type": "code",
   "execution_count": null,
   "metadata": {},
   "outputs": [],
   "source": [
    "df = pd.concat([df1, df2], ignore_index=True)"
   ]
  },
  {
   "cell_type": "code",
   "execution_count": null,
   "metadata": {},
   "outputs": [],
   "source": [
    "df"
   ]
  },
  {
   "cell_type": "code",
   "execution_count": null,
   "metadata": {},
   "outputs": [],
   "source": [
    "sns.boxenplot(y='table', hue='hash_fn', x='ns', data=df1, orient='h')"
   ]
  },
  {
   "cell_type": "code",
   "execution_count": null,
   "metadata": {},
   "outputs": [],
   "source": [
    "sns.boxenplot(x='table', hue='hash_fn', y='ns', data=df2)"
   ]
  },
  {
   "cell_type": "code",
   "execution_count": null,
   "metadata": {},
   "outputs": [],
   "source": [
    "df"
   ]
  },
  {
   "cell_type": "code",
   "execution_count": null,
   "metadata": {},
   "outputs": [],
   "source": [
    "sns.set_style(\"darkgrid\")\n",
    "#sns.set_style(\"dark\")\n",
    "#plt.style.use(\"dark_background\")\n",
    "#sns.set_style(\"whitegrid\")\n",
    "# height=3.5\n",
    "sns.catplot(kind='boxen', x='table', hue='hash_fn', y='ns', col='tag', data=df, height=3.45)\n",
    "plt.savefig('perfect-hashing-bplot.svg', format='svg')\n",
    "plt.show()"
   ]
  }
 ],
 "metadata": {
  "kernelspec": {
   "display_name": "Python 3",
   "language": "python",
   "name": "python3"
  },
  "language_info": {
   "codemirror_mode": {
    "name": "ipython",
    "version": 3
   },
   "file_extension": ".py",
   "mimetype": "text/x-python",
   "name": "python",
   "nbconvert_exporter": "python",
   "pygments_lexer": "ipython3",
   "version": "3.9.0"
  }
 },
 "nbformat": 4,
 "nbformat_minor": 4
}
